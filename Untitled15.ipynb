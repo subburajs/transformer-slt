{
  "nbformat": 4,
  "nbformat_minor": 0,
  "metadata": {
    "colab": {
      "name": "Untitled15.ipynb",
      "provenance": [],
      "authorship_tag": "ABX9TyMLKhXpZbfI8ofz6jBSngwL",
      "include_colab_link": true
    },
    "kernelspec": {
      "name": "python3",
      "display_name": "Python 3"
    }
  },
  "cells": [
    {
      "cell_type": "markdown",
      "metadata": {
        "id": "view-in-github",
        "colab_type": "text"
      },
      "source": [
        "<a href=\"https://colab.research.google.com/github/subburajs/transformer-slt/blob/master/Untitled15.ipynb\" target=\"_parent\"><img src=\"https://colab.research.google.com/assets/colab-badge.svg\" alt=\"Open In Colab\"/></a>"
      ]
    },
    {
      "cell_type": "code",
      "metadata": {
        "id": "DjlhvmMj4nOZ",
        "colab_type": "code",
        "outputId": "b4dde160-0b9d-4a88-8a8f-65333e32db2d",
        "colab": {
          "base_uri": "https://localhost:8080/",
          "height": 204
        }
      },
      "source": [
        "!wget https://github.com/kayoyin/transformer-slt\n",
        "\n"
      ],
      "execution_count": 0,
      "outputs": [
        {
          "output_type": "stream",
          "text": [
            "--2020-05-02 05:39:27--  https://github.com/kayoyin/transformer-slt\n",
            "Resolving github.com (github.com)... 140.82.114.4\n",
            "Connecting to github.com (github.com)|140.82.114.4|:443... connected.\n",
            "HTTP request sent, awaiting response... 200 OK\n",
            "Length: unspecified [text/html]\n",
            "Saving to: ‘transformer-slt’\n",
            "\n",
            "\rtransformer-slt         [<=>                 ]       0  --.-KB/s               \rtransformer-slt         [ <=>                ] 103.18K  --.-KB/s    in 0.04s   \n",
            "\n",
            "2020-05-02 05:39:28 (2.60 MB/s) - ‘transformer-slt’ saved [105654]\n",
            "\n"
          ],
          "name": "stdout"
        }
      ]
    }
  ]
}